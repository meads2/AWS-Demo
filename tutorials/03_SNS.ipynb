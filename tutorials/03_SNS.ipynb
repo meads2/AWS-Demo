{
 "cells": [
  {
   "cell_type": "code",
   "execution_count": 3,
   "metadata": {},
   "outputs": [
    {
     "name": "stdout",
     "output_type": "stream",
     "text": [
      "<class 'botocore.client.SNS'>\n"
     ]
    }
   ],
   "source": [
    "sns = boto3.client('sns')\n",
    "\n",
    "print(type(sns))"
   ]
  },
  {
   "cell_type": "markdown",
   "metadata": {},
   "source": [
    "#### **2. Create SNS Topic** \n",
    "SNS is a Pub/Sub service.\n",
    "\n",
    "Confused? Don't be... it's really quite simple. \n",
    "\n",
    "Think of a magazine: \n",
    "\n",
    "The **Publisher** creates the Topics, content, or magainze and distributes to the public. The **Subscriber** reads the content if they want to. See not that hard? SNS is the same premise. There are Topics created related to different peices of your application or logic and subscripers are the other parts of your project that might need some of that information. This simple concept allows devleopers and teams to decouple the different parts of their applicaiton in a very efficient manner."
   ]
  },
  {
   "cell_type": "code",
   "execution_count": 4,
   "metadata": {},
   "outputs": [
    {
     "name": "stdout",
     "output_type": "stream",
     "text": [
      "arn:aws:sns:us-east-1:218552875265:MyFirstTopic\n"
     ]
    }
   ],
   "source": [
    "# Create Topic\n",
    "topic = sns.create_topic(Name='MyFirstTopic',Attributes={'DisplayName': 'myfirsttopic'})\n",
    "\n",
    "# Store New Topic ARN\n",
    "topicArn = topic['TopicArn']\n",
    "print(topicArn)"
   ]
  },
  {
   "cell_type": "markdown",
   "metadata": {},
   "source": [
    "#### **3. Subscribe to New Topic**\n",
    "Once a Topic is created, its content can be subscribed to. This simply means that any info published to this topic is received by all subscribers. Like an alert on your phone, or email, or JSON body for other part of an app. You get the idea...Right? Good, lets move on!\n"
   ]
  },
  {
   "cell_type": "code",
   "execution_count": 5,
   "metadata": {},
   "outputs": [
    {
     "name": "stdout",
     "output_type": "stream",
     "text": [
      "{'SubscriptionArn': 'pending confirmation', 'ResponseMetadata': {'RequestId': '10e4e634-55dc-5cb9-bc64-b0d8e81c53bd', 'HTTPStatusCode': 200, 'HTTPHeaders': {'x-amzn-requestid': '10e4e634-55dc-5cb9-bc64-b0d8e81c53bd', 'content-type': 'text/xml', 'content-length': '298', 'date': 'Thu, 19 Mar 2020 00:23:28 GMT'}, 'RetryAttempts': 0}}\n"
     ]
    }
   ],
   "source": [
    "subscription = sns.subscribe(TopicArn=topicArn, Protocol='email', Endpoint='matteads2@gmail.com')\n",
    "print(subscription)"
   ]
  },
  {
   "cell_type": "markdown",
   "metadata": {},
   "source": [
    "#### **4. Publish To Topic**"
   ]
  },
  {
   "cell_type": "code",
   "execution_count": 5,
   "metadata": {},
   "outputs": [
    {
     "name": "stdout",
     "output_type": "stream",
     "text": [
      "{'MessageId': '0a7b84c5-951e-5a98-999a-d22c5bf7d34b', 'ResponseMetadata': {'RequestId': '06777d54-07b3-5154-9654-2bbdc95af887', 'HTTPStatusCode': 200, 'HTTPHeaders': {'x-amzn-requestid': '06777d54-07b3-5154-9654-2bbdc95af887', 'content-type': 'text/xml', 'content-length': '294', 'date': 'Mon, 16 Mar 2020 18:59:53 GMT'}, 'RetryAttempts': 0}}\n"
     ]
    }
   ],
   "source": [
    "publish = sns.publish(TopicArn=topicArn, Message='My First SNS message')\n",
    "print(publish)"
   ]
  }
 ],
 "metadata": {
  "kernelspec": {
   "display_name": "dev",
   "language": "python",
   "name": "dev"
  },
  "language_info": {
   "codemirror_mode": {
    "name": "ipython",
    "version": 3
   },
   "file_extension": ".py",
   "mimetype": "text/x-python",
   "name": "python",
   "nbconvert_exporter": "python",
   "pygments_lexer": "ipython3",
   "version": "3.7.6"
  }
 },
 "nbformat": 4,
 "nbformat_minor": 4
}